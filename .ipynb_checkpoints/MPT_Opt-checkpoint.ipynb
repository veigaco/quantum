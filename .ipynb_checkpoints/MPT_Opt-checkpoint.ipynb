{
 "cells": [
  {
   "cell_type": "code",
   "execution_count": 1,
   "metadata": {},
   "outputs": [],
   "source": [
    "import pandas as pd\n",
    "import os\n",
    "from math import *\n",
    "import re\n",
    "from datetime import datetime, date, time, timedelta\n",
    "import fix_yahoo_finance as yf\n",
    "import matplotlib.pyplot as plt\n",
    "import numpy as np\n",
    "from time import sleep\n",
    "from MPT_utils import * \n",
    "import cvxpy as cvx\n",
    "import numpy as np"
   ]
  },
  {
   "cell_type": "code",
   "execution_count": 2,
   "metadata": {},
   "outputs": [],
   "source": [
    "#universe = ['spy','ark'] \n",
    "universe = ['spy']\n",
    "#universe = ['ark']\n",
    "\n",
    "#variables for data download\n",
    "hist_window = 100 #for historical pricing\n",
    "date_fmt = '%Y-%m-%d'\n",
    "start_date = datetime.now() - timedelta(hist_window)\n",
    "start_date = start_date.strftime(date_fmt)\n",
    "sleep_time = 5\n",
    "lb = 55; min_gross=0.5; max_gross=1; min_w=0; max_w=0.05 # default optimization vars\n",
    "refresh_pricing = False\n",
    "\n",
    "config = {'spy' : {\n",
    "            'benchmark': 'spy',\n",
    "            'skiprows': 1,\n",
    "            'columns': ['Symbol', 'Company Name']},\n",
    "        'ark' : {\n",
    "            'benchmark': 'ark' ,\n",
    "            'skiprows': 0,\n",
    "            'columns': ['ticker','company']}}\n",
    "\n",
    "pricing_path = \"./pricing/\"\n",
    "component_path = \"./sector_components/\"\n",
    "## Script que obtiene los datos de las fuentes:\n",
    "# 1. Sector components   : Contiene la información de los ETF sectors y sus componentes\n",
    "# 2. Pricing            : Contiene la informacion historica de precios de cada uno de los componentes\n",
    "# 3. Optimizacion de Markowitz\n",
    "# 4. Seleccion de subportafolio\n",
    "# 5. Rebalanceo\n"
   ]
  },
  {
   "cell_type": "markdown",
   "metadata": {},
   "source": [
    "1. Sector Components"
   ]
  },
  {
   "cell_type": "code",
   "execution_count": 3,
   "metadata": {},
   "outputs": [
    {
     "name": "stdout",
     "output_type": "stream",
     "text": [
      "loaded: xlb\n",
      "loaded: xle\n",
      "loaded: xlf\n",
      "loaded: xli\n",
      "loaded: xlk\n",
      "loaded: xlp\n",
      "loaded: xlre\n",
      "loaded: xlu\n",
      "loaded: xlv\n",
      "loaded: xly\n",
      "Companies loaded: spy (505, 3)\n"
     ]
    }
   ],
   "source": [
    "### 1. Sector components:\n",
    "# de donde se extrae esta info, con que frecuencia se actualiza?\n",
    "\n",
    "## 1.1 descargar componentes del server:\n",
    "\n",
    "## 1.2 cargar los sector componentes para cada benchmark, cargar cada ETF sector para cada benchmark\n",
    "# y cada company para cada ETF sectior y limpiarlos\n",
    "\n",
    "companies_universe= pd.DataFrame({}) ### contiene todas las compañias del etf sector para cada benchmark\n",
    "sector_etf = {}   ### contiene cada etf sector para cada benchmark\n",
    "ticker_map= {}    ### contiene todas las compañias para cada etf sector \n",
    "\n",
    "for k in universe:\n",
    "    #print(config[k])\n",
    "    companies,benchmark_etf_map,sector_tickers_map=load_companies(benchmark=config[k]['benchmark'],skiprows=config[k]['skiprows'],columns=config[k]['columns']) ## companies del benchmark spy\n",
    "    print(\"Companies loaded:\",config[k]['benchmark'], companies.shape)\n",
    "    companies_universe=companies_universe.append(companies)\n",
    "    sector_etf.update(benchmark_etf_map)\n",
    "    ticker_map.update(sector_tickers_map)"
   ]
  },
  {
   "cell_type": "markdown",
   "metadata": {},
   "source": [
    "2 Pricing"
   ]
  },
  {
   "cell_type": "code",
   "execution_count": 4,
   "metadata": {},
   "outputs": [
    {
     "name": "stdout",
     "output_type": "stream",
     "text": [
      "spy\n",
      "consol_px(69, 505)\n",
      "se limpio consol_px(69, 501)\n",
      "se borraron:\n",
      "BRK.B    69\n",
      "BF.B     69\n",
      "BKNG     55\n",
      "SNI       6\n",
      "dtype: int64\n",
      "consol_px final: (69, 495)\n"
     ]
    }
   ],
   "source": [
    "\n",
    "# 2. Pricing            : Contiene la informacion historica de precios de cada uno de los componentes\n",
    "\n",
    "## 2.1 descargar componentes del server:\n",
    "\n",
    "if refresh_pricing==True:\n",
    "    ### refresh components\n",
    "    etfs=[ [i,j,ticker_map[j]] for i in universe for j in sector_etf[i] ]\n",
    "    for i in etfs:\n",
    "        get_pricing(output_name=pricing_path+i[0]+\"/\"+i[1]+\"-hold-pricing.csv\",\n",
    "        ticker_list=i[2],start_date=start_date)\n",
    "    ## refresh etf sectors \n",
    "    sectors=[[i,sector_etf[i]] for i in universe]\n",
    "    for j in sectors:\n",
    "        get_pricing(output_name=pricing_path+j[0]+\"/\"+j[0]+'-sectors.csv', \n",
    "        ticker_list=j[1], start_date=start_date)\n",
    "    # refresh benchmarks\n",
    "    benchmarks=[i for i in universe]\n",
    "    #benchmarks\n",
    "    for j in benchmarks:\n",
    "        print(j)\n",
    "        get_pricing(output_name=pricing_path+ j +'/'+j+'.csv', ticker_list=j, start_date=start_date)\n",
    "\n",
    "\n",
    "### consol_px contiene los precios historicos de cada compañia\n",
    "consol_px=load_consol_px(universe)\n",
    "consol_px=consol_px[sorted(consol_px.columns.tolist())]\n",
    "print(\"consol_px\"+str(consol_px.shape))\n",
    "### crear consol_px \n",
    "\n",
    "    \n",
    "# #### Limpiar las compañias que tienen valores nulos en los ultimos 3 dias y valores nulos en toda su serie\n",
    "consol_px,cols=clean_nas(consol_px) ## limpia de aquellos valores que no tienen valores en su serie o que por alguna razon tienen NAN en los ultimos dias\n",
    "print(\"se limpio consol_px\"+str(consol_px.shape))\n",
    "print(\"se borraron:\")\n",
    "print(cols)\n",
    "\n",
    "\n",
    "# Removing tickers for M&A targets and diff class shares of same co.\n",
    "remove_tickers = ['CSRA', 'DPS', 'UAA', 'DISCK', 'JUNO', 'XL', 'WELL', 'BKNG', 'SNI','EVGN'] # example: two M&A targets, diff share classes...\n",
    "remove = list(set(remove_tickers).intersection(consol_px.columns.tolist()))\n",
    "if len(remove) > 0:\n",
    "    consol_px.drop(remove, axis=1, inplace=True)\n",
    "\n",
    "consol_px.to_csv(\"consol_mpt_opt.csv\")\n",
    "print(\"consol_px final: \"+str(consol_px.shape))"
   ]
  },
  {
   "cell_type": "markdown",
   "metadata": {},
   "source": [
    "3. Optimización"
   ]
  },
  {
   "cell_type": "code",
   "execution_count": 5,
   "metadata": {},
   "outputs": [
    {
     "data": {
      "image/png": "[encoded data removed]",
      "text/plain": [
       "<matplotlib.figure.Figure at 0x1136e1080>"
      ]
     },
     "metadata": {},
     "output_type": "display_data"
    }
   ],
   "source": [
    "# 3. Optimizacion\n",
    "\n",
    "px_portion = consol_px[-abs(hist_window):].copy() ## tomar los ultimos hist_window rows de la tabla de precios\n",
    "px_portion= px_portion.sort_index().pct_change(); px_portion.iloc[0] = 0 ## calcular returns\n",
    "return_vec =px_portion.loc[:px_portion.tail(1).index[0]].tail(lb)#.dropna()\n",
    "\n",
    "### grafico de comportamientos de returns\n",
    "plot_returns(return_vec)\n"
   ]
  },
  {
   "cell_type": "code",
   "execution_count": 11,
   "metadata": {},
   "outputs": [],
   "source": [
    "\n",
    "######## OPTIMIZACION COMPLETA DE PORTAFOLIO\n",
    "# Compute trade-off curve.\n",
    "min_weight=0.01\n",
    "SAMPLES = 100\n",
    "w = []\n",
    "risk_data = np.zeros(SAMPLES)\n",
    "ret_data = np.zeros(SAMPLES)\n",
    "sharpe = np.zeros(SAMPLES)\n",
    "gamma_vals = np.logspace(-2, 3, num=SAMPLES)\n",
    "risk_data_sub = np.zeros(SAMPLES)\n",
    "ret_data_sub = np.zeros(SAMPLES)\n",
    "sharpe_sub = np.zeros(SAMPLES)\n",
    "w_sub = []\n",
    "for i in range(SAMPLES):\n",
    "    risk,ret,w_,mu,Sigma,name=Optimization(return_vec,i)\n",
    "    risk_data[i] = risk\n",
    "    ret_data[i]= ret\n",
    "    w.append(w_)\n",
    "    sharpe[i]=ret/risk\n",
    "    #idx_opt_gamma = [sharpe.tolist().index(i) for i in sorted(sharpe)[-1:]][0]\n",
    "    portfolio_opt = pd.DataFrame(w_,index=name,columns=[\"Allocation\"])\n",
    "    return_subportfolio,risk_subportfolio,sharpe_subportfolio,weights_subportfolio=get_subportfolio(portfolio_opt,min_weight,px_portion)\n",
    "    risk_data_sub[i] = risk_subportfolio\n",
    "    ret_data_sub[i]= return_subportfolio\n",
    "    w_sub.append(weights_subportfolio)\n",
    "    sharpe_sub[i]=sharpe_subportfolio"
   ]
  },
  {
   "cell_type": "code",
   "execution_count": null,
   "metadata": {},
   "outputs": [],
   "source": [
    "opt_gammas=pd.DataFrame({\"gamma\":gamma_vals,\"return\":ret_data,\n",
    "    \"risk\":risk_data,\"sharpe\":sharpe,\"% allocation\":[sum(w[i]) for i in range(SAMPLES)],\"return_sub\":ret_data_sub,\n",
    "    \"risk_sub\":risk_data_sub,\"sharpe_sub\":sharpe_sub,\"% allocation_sub\":[sum(w_sub[i]) for i in range(SAMPLES)]})\n",
    "opt_df=opt_gammas.sort_values(by='sharpe_sub', ascending=False).head(5)\n",
    "opt_df.head(5)"
   ]
  },
  {
   "cell_type": "code",
   "execution_count": null,
   "metadata": {},
   "outputs": [],
   "source": [
    "# Plot return distributions for two points on the trade-off curve.\n",
    "import matplotlib.mlab as mlab\n",
    "plt.figure()\n",
    "for idx, row in opt_df.iterrows():\n",
    "    #print(idx)\n",
    "    x = np.linspace(-1, 1, 1000)\n",
    "    plt.plot(x, mlab.normpdf(x, row[\"return\"], row[\"risk\"]), label=r\"$\\gamma = %.2f$\" % row[\"gamma\"])\n",
    "\n",
    "plt.xlabel('Return')\n",
    "plt.ylabel('Density')\n",
    "plt.legend(loc='upper right')\n",
    "plt.show()"
   ]
  },
  {
   "cell_type": "code",
   "execution_count": null,
   "metadata": {},
   "outputs": [],
   "source": [
    "fig = plt.figure(figsize=(15,5))\n",
    "fig.subplots_adjust(left=0.2, wspace=0.6)\n",
    "ax1=fig.add_subplot(1,3,1)\n",
    "ax1.set_title(\"return\")\n",
    "ax1.plot(opt_gammas[\"gamma\"].values[:60],opt_gammas[\"return\"].values[:60])\n",
    "\n",
    "ax2=fig.add_subplot(1,3,2)\n",
    "ax2.set_title(\"risk\")\n",
    "ax2.plot(opt_gammas[\"gamma\"].values[:60],opt_gammas[\"risk\"].values[:60])\n",
    "\n",
    "ax3=fig.add_subplot(1,3,3)\n",
    "ax3.set_title(\"sharpe\")\n",
    "ax3.plot(opt_gammas[\"gamma\"].values[:60],opt_gammas[\"sharpe\"].values[:60])\n",
    "plt.show()"
   ]
  },
  {
   "cell_type": "code",
   "execution_count": null,
   "metadata": {},
   "outputs": [],
   "source": [
    "plot_Optimization(risk_data,ret_data,gamma_vals,sharpe,name,Sigma,mu)"
   ]
  },
  {
   "cell_type": "markdown",
   "metadata": {},
   "source": [
    "1. Elección de subportafolio"
   ]
  },
  {
   "cell_type": "code",
   "execution_count": null,
   "metadata": {},
   "outputs": [],
   "source": [
    "# 4. SELECCION DE SUBCONJUNTO DE PORTAFOLIO\n",
    "\n",
    "\n",
    "idx_opt_gamma = [sharpe_sub.tolist().index(i) for i in sorted(sharpe_sub)[-1:]][0]\n",
    "portfolio_opt = pd.DataFrame(w[idx_opt_gamma],index=name,columns=[\"Allocation\"])\n",
    "\n",
    "return_subportfolio,risk_subportfolio,weights_subportfolio=get_subportfolio(portfolio_opt,min_weight,px_portion)\n",
    "\n",
    "print(\"Gamma: {0:.2f}\".format(gamma_vals[idx_opt_gamma]))\n",
    "print(\"Return Portfolio Optimo completo: \"+str(ret_data[idx_opt_gamma]))\n",
    "print(\"Risk Portfolio Optimo completo: \"+ str(risk_data[idx_opt_gamma]))\n",
    "print(\"Sharpe Portfolio Optimo completo: \"+ str(sharpe[idx_opt_gamma]))\n",
    "print(\"Return Sub-Portfolio Optimo: \"+str(return_subportfolio))\n",
    "print(\"Risk Sub-Portfolio Optimo: \"+ str(risk_subportfolio))\n",
    "print(\"Sharpe Sub-Portfolio Optimo: \"+ str(return_subportfolio/risk_subportfolio))\n",
    "\n",
    "\n",
    "recommend =pd.DataFrame(weights_subportfolio)\n",
    "recommend['Sector'] = pd.DataFrame(companies_universe.loc[recommend.index.values.tolist()][\"etf_sector\"]).reset_index().drop_duplicates(subset=['ticker', 'etf_sector'], keep=\"first\").groupby('ticker')['etf_sector'].apply(lambda x: \"{%s}\" % ', '.join(x))\n",
    "recommend['Company'] = companies_universe.loc[recommend.index.values.tolist()][\"company_name\"].reset_index().drop_duplicates(subset=['ticker', 'company_name'], keep=\"first\").groupby('ticker')['company_name'].apply(lambda x: \"{%s}\" % ', '.join(x))\n",
    "recommend['benchmark'] = pd.DataFrame(companies_universe.loc[recommend.index.values.tolist()][\"benchmark\"]).reset_index().drop_duplicates(subset=['ticker', 'benchmark'], keep=\"first\").groupby('ticker')['benchmark'].apply(lambda x: \"{%s}\" % ', '.join(x))\n"
   ]
  },
  {
   "cell_type": "code",
   "execution_count": 16,
   "metadata": {},
   "outputs": [
    {
     "data": {
      "text/plain": [
       "array([ 0.0020202,  0.0020202,  0.0020202,  0.0020202,  0.0020202,\n",
       "        0.0020202,  0.0020202,  0.0020202,  0.0020202,  0.0020202,\n",
       "        0.0020202,  0.0020202,  0.0020202,  0.0020202,  0.0020202,\n",
       "        0.0020202,  0.0020202,  0.0020202,  0.0020202,  0.0020202,\n",
       "        0.0020202,  0.0020202,  0.0020202,  0.0020202,  0.0020202,\n",
       "        0.0020202,  0.0020202,  0.0020202,  0.0020202,  0.0020202,\n",
       "        0.0020202,  0.0020202,  0.0020202,  0.0020202,  0.0020202,\n",
       "        0.0020202,  0.0020202,  0.0020202,  0.0020202,  0.0020202,\n",
       "        0.0020202,  0.0020202,  0.0020202,  0.0020202,  0.0020202,\n",
       "        0.0020202,  0.0020202,  0.0020202,  0.0020202,  0.0020202,\n",
       "        0.0020202,  0.0020202,  0.0020202,  0.0020202,  0.0020202,\n",
       "        0.0020202,  0.0020202,  0.0020202,  0.0020202,  0.0020202,\n",
       "        0.0020202,  0.0020202,  0.0020202,  0.0020202,  0.0020202,\n",
       "        0.0020202,  0.0020202,  0.0020202,  0.0020202,  0.0020202,\n",
       "        0.0020202,  0.0020202,  0.0020202,  0.0020202,  0.0020202,\n",
       "        0.0020202,  0.0020202,  0.0020202,  0.0020202,  0.0020202,\n",
       "        0.0020202,  0.0020202,  0.0020202,  0.0020202,  0.0020202,\n",
       "        0.0020202,  0.0020202,  0.0020202,  0.0020202,  0.0020202,\n",
       "        0.0020202,  0.0020202,  0.0020202,  0.0020202,  0.0020202,\n",
       "        0.0020202,  0.0020202,  0.0020202,  0.0020202,  0.0020202,\n",
       "        0.0020202,  0.0020202,  0.0020202,  0.0020202,  0.0020202,\n",
       "        0.0020202,  0.0020202,  0.0020202,  0.0020202,  0.0020202,\n",
       "        0.0020202,  0.0020202,  0.0020202,  0.0020202,  0.0020202,\n",
       "        0.0020202,  0.0020202,  0.0020202,  0.0020202,  0.0020202,\n",
       "        0.0020202,  0.0020202,  0.0020202,  0.0020202,  0.0020202,\n",
       "        0.0020202,  0.0020202,  0.0020202,  0.0020202,  0.0020202,\n",
       "        0.0020202,  0.0020202,  0.0020202,  0.0020202,  0.0020202,\n",
       "        0.0020202,  0.0020202,  0.0020202,  0.0020202,  0.0020202,\n",
       "        0.0020202,  0.0020202,  0.0020202,  0.0020202,  0.0020202,\n",
       "        0.0020202,  0.0020202,  0.0020202,  0.0020202,  0.0020202,\n",
       "        0.0020202,  0.0020202,  0.0020202,  0.0020202,  0.0020202,\n",
       "        0.0020202,  0.0020202,  0.0020202,  0.0020202,  0.0020202,\n",
       "        0.0020202,  0.0020202,  0.0020202,  0.0020202,  0.0020202,\n",
       "        0.0020202,  0.0020202,  0.0020202,  0.0020202,  0.0020202,\n",
       "        0.0020202,  0.0020202,  0.0020202,  0.0020202,  0.0020202,\n",
       "        0.0020202,  0.0020202,  0.0020202,  0.0020202,  0.0020202,\n",
       "        0.0020202,  0.0020202,  0.0020202,  0.0020202,  0.0020202,\n",
       "        0.0020202,  0.0020202,  0.0020202,  0.0020202,  0.0020202,\n",
       "        0.0020202,  0.0020202,  0.0020202,  0.0020202,  0.0020202,\n",
       "        0.0020202,  0.0020202,  0.0020202,  0.0020202,  0.0020202,\n",
       "        0.0020202,  0.0020202,  0.0020202,  0.0020202,  0.0020202,\n",
       "        0.0020202,  0.0020202,  0.0020202,  0.0020202,  0.0020202,\n",
       "        0.0020202,  0.0020202,  0.0020202,  0.0020202,  0.0020202,\n",
       "        0.0020202,  0.0020202,  0.0020202,  0.0020202,  0.0020202,\n",
       "        0.0020202,  0.0020202,  0.0020202,  0.0020202,  0.0020202,\n",
       "        0.0020202,  0.0020202,  0.0020202,  0.0020202,  0.0020202,\n",
       "        0.0020202,  0.0020202,  0.0020202,  0.0020202,  0.0020202,\n",
       "        0.0020202,  0.0020202,  0.0020202,  0.0020202,  0.0020202,\n",
       "        0.0020202,  0.0020202,  0.0020202,  0.0020202,  0.0020202,\n",
       "        0.0020202,  0.0020202,  0.0020202,  0.0020202,  0.0020202,\n",
       "        0.0020202,  0.0020202,  0.0020202,  0.0020202,  0.0020202,\n",
       "        0.0020202,  0.0020202,  0.0020202,  0.0020202,  0.0020202,\n",
       "        0.0020202,  0.0020202,  0.0020202,  0.0020202,  0.0020202,\n",
       "        0.0020202,  0.0020202,  0.0020202,  0.0020202,  0.0020202,\n",
       "        0.0020202,  0.0020202,  0.0020202,  0.0020202,  0.0020202,\n",
       "        0.0020202,  0.0020202,  0.0020202,  0.0020202,  0.0020202,\n",
       "        0.0020202,  0.0020202,  0.0020202,  0.0020202,  0.0020202,\n",
       "        0.0020202,  0.0020202,  0.0020202,  0.0020202,  0.0020202,\n",
       "        0.0020202,  0.0020202,  0.0020202,  0.0020202,  0.0020202,\n",
       "        0.0020202,  0.0020202,  0.0020202,  0.0020202,  0.0020202,\n",
       "        0.0020202,  0.0020202,  0.0020202,  0.0020202,  0.0020202,\n",
       "        0.0020202,  0.0020202,  0.0020202,  0.0020202,  0.0020202,\n",
       "        0.0020202,  0.0020202,  0.0020202,  0.0020202,  0.0020202,\n",
       "        0.0020202,  0.0020202,  0.0020202,  0.0020202,  0.0020202,\n",
       "        0.0020202,  0.0020202,  0.0020202,  0.0020202,  0.0020202,\n",
       "        0.0020202,  0.0020202,  0.0020202,  0.0020202,  0.0020202,\n",
       "        0.0020202,  0.0020202,  0.0020202,  0.0020202,  0.0020202,\n",
       "        0.0020202,  0.0020202,  0.0020202,  0.0020202,  0.0020202,\n",
       "        0.0020202,  0.0020202,  0.0020202,  0.0020202,  0.0020202,\n",
       "        0.0020202,  0.0020202,  0.0020202,  0.0020202,  0.0020202,\n",
       "        0.0020202,  0.0020202,  0.0020202,  0.0020202,  0.0020202,\n",
       "        0.0020202,  0.0020202,  0.0020202,  0.0020202,  0.0020202,\n",
       "        0.0020202,  0.0020202,  0.0020202,  0.0020202,  0.0020202,\n",
       "        0.0020202,  0.0020202,  0.0020202,  0.0020202,  0.0020202,\n",
       "        0.0020202,  0.0020202,  0.0020202,  0.0020202,  0.0020202,\n",
       "        0.0020202,  0.0020202,  0.0020202,  0.0020202,  0.0020202,\n",
       "        0.0020202,  0.0020202,  0.0020202,  0.0020202,  0.0020202,\n",
       "        0.0020202,  0.0020202,  0.0020202,  0.0020202,  0.0020202,\n",
       "        0.0020202,  0.0020202,  0.0020202,  0.0020202,  0.0020202,\n",
       "        0.0020202,  0.0020202,  0.0020202,  0.0020202,  0.0020202,\n",
       "        0.0020202,  0.0020202,  0.0020202,  0.0020202,  0.0020202,\n",
       "        0.0020202,  0.0020202,  0.0020202,  0.0020202,  0.0020202,\n",
       "        0.0020202,  0.0020202,  0.0020202,  0.0020202,  0.0020202,\n",
       "        0.0020202,  0.0020202,  0.0020202,  0.0020202,  0.0020202,\n",
       "        0.0020202,  0.0020202,  0.0020202,  0.0020202,  0.0020202,\n",
       "        0.0020202,  0.0020202,  0.0020202,  0.0020202,  0.0020202,\n",
       "        0.0020202,  0.0020202,  0.0020202,  0.0020202,  0.0020202,\n",
       "        0.0020202,  0.0020202,  0.0020202,  0.0020202,  0.0020202,\n",
       "        0.0020202,  0.0020202,  0.0020202,  0.0020202,  0.0020202,\n",
       "        0.0020202,  0.0020202,  0.0020202,  0.0020202,  0.0020202,\n",
       "        0.0020202,  0.0020202,  0.0020202,  0.0020202,  0.0020202,\n",
       "        0.0020202,  0.0020202,  0.0020202,  0.0020202,  0.0020202,\n",
       "        0.0020202,  0.0020202,  0.0020202,  0.0020202,  0.0020202,\n",
       "        0.0020202,  0.0020202,  0.0020202,  0.0020202,  0.0020202,\n",
       "        0.0020202,  0.0020202,  0.0020202,  0.0020202,  0.0020202,\n",
       "        0.0020202,  0.0020202,  0.0020202,  0.0020202,  0.0020202,\n",
       "        0.0020202,  0.0020202,  0.0020202,  0.0020202,  0.0020202,\n",
       "        0.0020202,  0.0020202,  0.0020202,  0.0020202,  0.0020202,\n",
       "        0.0020202,  0.0020202,  0.0020202,  0.0020202,  0.0020202])"
      ]
     },
     "execution_count": 16,
     "metadata": {},
     "output_type": "execute_result"
    }
   ],
   "source": [
    "#[sharpe_sub.tolist().index(i) for i in sorted(sharpe_sub)[-1:]][0]\n",
    "#ret_data_sub\n",
    "gamma_vals[93]\n",
    "risk,ret,w_,mu,Sigma,name=Optimization(return_vec,gamma_vals[93])\n",
    "portfolio_opt = pd.DataFrame(w_,index=name,columns=[\"Allocation\"])\n",
    "portfolio_opt\n",
    "return_subportfolio,risk_subportfolio,weights_subportfolio=get_subportfolio(portfolio_opt,min_weight,px_portion)\n",
    "return_subportfolio/risk_subportfolio,weights_subportfolio,sum(weights_subportfolio)\n",
    "w[93]"
   ]
  },
  {
   "cell_type": "code",
   "execution_count": null,
   "metadata": {},
   "outputs": [],
   "source": [
    "j=1\n",
    "n=ceil(consol_px[recommend.index].shape[1]/2)\n",
    "fig = plt.figure(figsize=(15,5))\n",
    "fig.subplots_adjust(left=0.2, wspace=0.6)\n",
    "for i in consol_px[recommend.index][-hist_window:].columns:\n",
    "    ax=fig.add_subplot(2,n,j) \n",
    "    ax.set_title(i)\n",
    "    ax.plot(consol_px[recommend.index][-hist_window:][[i]].values)\n",
    "    j=j+1\n",
    "    #print(i)\n",
    "\n",
    "plt.show()"
   ]
  },
  {
   "cell_type": "markdown",
   "metadata": {},
   "source": [
    "Rebalanceo"
   ]
  },
  {
   "cell_type": "code",
   "execution_count": null,
   "metadata": {},
   "outputs": [],
   "source": [
    "\n",
    "# Outputs for trade execution\n",
    "px = consol_px[recommend.index][-lb:]\n",
    "date = pd.to_datetime(px[-1:].index[0])#.strftime(date_fmt)\n",
    "\n",
    "trading_cols = ['Price', 'Allocation', 'Dollar Value', 'Shares']\n",
    "trading_df = pd.DataFrame([], index=recommend.index, columns=trading_cols)\n",
    "\n",
    "port_bal = 231000; \n",
    "alloc = weights_subportfolio.T.values\n",
    "pvalue = (port_bal * alloc)\n",
    "shares = (port_bal * alloc) / px[-1:]\n",
    "shares.apply(lambda x: round(x, 0)).T.sort_index()\n",
    "\n",
    "#trading_df['Company'] = pd.DataFrame(recommend.index)\n",
    "trading_df['Price'] = px[-1:].T\n",
    "trading_df['Allocation'] = recommend['Allocation']\n",
    "trading_df['Dollar Value'] = trading_df['Allocation'] * port_bal\n",
    "trading_df['Shares'] = trading_df['Dollar Value'] / trading_df['Price']\n",
    "\n",
    "print(\"Time Window: {}, Lookback: {}, MinGross: {}, MaxGross: {}, MinWeight: {}, MaxWeight: {}\".format(hist_window, lb, min_gross, max_gross, min_w, max_w))\n",
    "print(\"Ann. Ret: {0:.2f}, Risk: {1:.2f} Sharpe: {2:.2f}\".format(return_subportfolio, risk_subportfolio, sharpe_subportfolio))\n",
    "print(\"Date: {0}, Total Invested: {1:.2f}, Total Allocation: {2:.2f}%\".format(date, trading_df['Dollar Value'].sum(), trading_df['Allocation'].sum() * 100))\n",
    "trading_df = trading_df.astype({'Dollar Value':np.int, 'Shares':np.int})\n",
    "trading_df.sort_index()\n",
    "\n"
   ]
  },
  {
   "cell_type": "code",
   "execution_count": null,
   "metadata": {
    "collapsed": true
   },
   "outputs": [],
   "source": []
  }
 ],
 "metadata": {
  "kernelspec": {
   "display_name": "Python 3",
   "language": "python",
   "name": "python3"
  },
  "language_info": {
   "codemirror_mode": {
    "name": "ipython",
    "version": 3
   },
   "file_extension": ".py",
   "mimetype": "text/x-python",
   "name": "python",
   "nbconvert_exporter": "python",
   "pygments_lexer": "ipython3",
   "version": "3.4.3"
  }
 },
 "nbformat": 4,
 "nbformat_minor": 2
}
