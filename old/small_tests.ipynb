{
 "cells": [
  {
   "cell_type": "code",
   "execution_count": 7,
   "metadata": {},
   "outputs": [],
   "source": [
    "# Put these at the top of every notebook, to get automatic reloading and inline plotting\n",
    "%reload_ext autoreload\n",
    "%autoreload 2\n",
    "%matplotlib inline"
   ]
  },
  {
   "cell_type": "code",
   "execution_count": 10,
   "metadata": {},
   "outputs": [],
   "source": [
    "#imports section\n",
    "import pandas_datareader.data as web\n",
    "import numpy as np\n",
    "import pandas as pd\n",
    "import cvxpy as cvx\n",
    "import re, os\n",
    "import matplotlib.pyplot as plt\n",
    "import matplotlib.dates as mdates\n",
    "from math import *\n",
    "from datetime import datetime, date, time, timedelta\n",
    "from time import sleep\n",
    "from mvo_utils_v2 import *\n",
    "%matplotlib inline\n",
    "%config InlineBackend.figure_format = 'svg'"
   ]
  },
  {
   "cell_type": "code",
   "execution_count": 13,
   "metadata": {},
   "outputs": [],
   "source": [
    "# Global variables\n",
    "log = True\n",
    "refresh_pricing = False\n",
    "universe = 'spy-sectors'  # 'spy_sectors OR 'ark_etfs'\n",
    "active_etf = None  # ETF name OR None for broad market\n",
    "\n",
    "#variables for performance analysis\n",
    "lookback = 60\n",
    "net_exposure = 0\n",
    "leverage = 1\n",
    "min_weight = -0.05\n",
    "max_weight = 0.05  # default optimization vars\n",
    "min_len = 3\n",
    "pos_filter = 0.01  # cleaning variables\n",
    "rebal_frequency = 'W-' + datetime.now().strftime(\n",
    "    '%a')  # this is used during the historical allocations\n",
    "gamma_vals = np.logspace(0.5, 2, num=100)  # 1 to 100 range"
   ]
  },
  {
   "cell_type": "code",
   "execution_count": 14,
   "metadata": {},
   "outputs": [
    {
     "name": "stdout",
     "output_type": "stream",
     "text": [
      "Companies loaded: (1010, 3)\n",
      "Loaded pricing for spy-sectors.csv, with shape (2605, 10)\n",
      "Loaded pricing for SPY.csv, with shape (69, 1)\n"
     ]
    }
   ],
   "source": [
    "# load spy sector components\n",
    "# would be nice to load a JSON with configuration\n",
    "ticker_map = {\n",
    "    'benchmark': ['SPY'],\n",
    "    'equity': ['VTI','VTV','VOE','VBR','VEA','VWO'],\n",
    "    'fixed_income': ['VTIP', 'SHV', 'MUB', 'LQD', 'BNDX', 'EMB'],\n",
    "    'spy-sectors': ['XLE', 'XLU', 'XLK', 'XLB', 'XLP', 'XLY', 'XLI', 'XLV', 'XLF', 'XLRE'],\n",
    "    'ark-etfs': ['ARKG', 'ARKK', 'ARKQ', 'ARKW']\n",
    "}\n",
    "\n",
    "config = {\n",
    "    'spy-sectors' : {\n",
    "        'hold_cols': ['Symbol','Company Name', 'Index Weight'],\n",
    "        'hold_format': r'holdings-spy-',\n",
    "        'idx_col': 'Symbol',\n",
    "        'fname': 'spy-sectors',\n",
    "        'skiprows': 1\n",
    "    },\n",
    "    'ark-etfs' : {\n",
    "        'hold_cols': ['ticker','company', 'weight(%)'],\n",
    "        'hold_format': r'holdings-ark-',\n",
    "        'idx_col': 'ticker',\n",
    "        'fname': 'ark-etfs',\n",
    "        'skiprows': 0\n",
    "    }\n",
    "}\n",
    "\n",
    "hold_cols = config[universe]['hold_cols']\n",
    "hold_format = config[universe]['hold_format']\n",
    "idx_col = config[universe]['idx_col']\n",
    "fname = config[universe]['fname']\n",
    "skiprows = config[universe]['skiprows']\n",
    "\n",
    "companies = load_components(\n",
    "    companies, hold_format, hold_cols, \n",
    "    idx_col, ticker_map[universe], srows=skiprows)\n",
    "print(\"Companies loaded:\", companies.shape)\n",
    "px_etfs = load_pricing(fname + '.csv', 'Date')\n",
    "px_spy = load_pricing('SPY.csv', 'Date')"
   ]
  },
  {
   "cell_type": "code",
   "execution_count": 15,
   "metadata": {},
   "outputs": [
    {
     "name": "stdout",
     "output_type": "stream",
     "text": [
      "Loaded pricing for spy-sectors.csv, with shape (2605, 10)\n",
      "Loaded pricing for SPY.csv, with shape (69, 1)\n",
      "Loaded pricing for XLE-hold-pricing.csv, with shape (2605, 31)\n",
      "Loaded pricing for XLU-hold-pricing.csv, with shape (2605, 28)\n",
      "Loaded pricing for XLK-hold-pricing.csv, with shape (2605, 73)\n",
      "Loaded pricing for XLB-hold-pricing.csv, with shape (2605, 25)\n",
      "Loaded pricing for XLP-hold-pricing.csv, with shape (2605, 34)\n",
      "Loaded pricing for XLY-hold-pricing.csv, with shape (2605, 82)\n",
      "Loaded pricing for XLI-hold-pricing.csv, with shape (2605, 70)\n",
      "Loaded pricing for XLV-hold-pricing.csv, with shape (2605, 61)\n",
      "Loaded pricing for XLF-hold-pricing.csv, with shape (2605, 68)\n",
      "Loaded pricing for XLRE-hold-pricing.csv, with shape (2605, 33)\n"
     ]
    }
   ],
   "source": [
    "# Load pricing for components of each sectors\n",
    "px_etfs = load_pricing(universe + '.csv', 'Date')\n",
    "px_spy = load_pricing('SPY.csv', 'Date')\n",
    "consol_px = clean_nas(load_consol_px(ticker_map, universe))\n",
    "if(active_etf != None): companies = companies[companies['ETF']==active_etf] # filter by selected ETF\n",
    "tickers = companies.index.tolist()\n",
    "tickers=[i for i in tickers if i not in ['BF.b','BRK.b']] ## esta es una correcion extra para no incluir 'BF.b','BRK.b'\n",
    "consol_px = consol_px[list(set(tickers))]"
   ]
  },
  {
   "cell_type": "code",
   "execution_count": 16,
   "metadata": {},
   "outputs": [],
   "source": [
    "weights = np.zeros((len(consol_px.columns), 1))\n",
    "np_weights = np.array(weights)\n",
    "lb_rets = consol_px.sort_index().pct_change().dropna()\n",
    "lb_weights = pd.DataFrame(np_weights.T, index=[lb_rets.index[-1]], columns=lb_rets.columns)"
   ]
  },
  {
   "cell_type": "code",
   "execution_count": 17,
   "metadata": {},
   "outputs": [
    {
     "data": {
      "text/html": [
       "<div>\n",
       "<style scoped>\n",
       "    .dataframe tbody tr th:only-of-type {\n",
       "        vertical-align: middle;\n",
       "    }\n",
       "\n",
       "    .dataframe tbody tr th {\n",
       "        vertical-align: top;\n",
       "    }\n",
       "\n",
       "    .dataframe thead th {\n",
       "        text-align: right;\n",
       "    }\n",
       "</style>\n",
       "<table border=\"1\" class=\"dataframe\">\n",
       "  <thead>\n",
       "    <tr style=\"text-align: right;\">\n",
       "      <th></th>\n",
       "      <th>a</th>\n",
       "      <th>b</th>\n",
       "      <th>c</th>\n",
       "      <th>d</th>\n",
       "      <th>e</th>\n",
       "    </tr>\n",
       "  </thead>\n",
       "  <tbody>\n",
       "    <tr>\n",
       "      <th>1</th>\n",
       "      <td>0</td>\n",
       "      <td>1</td>\n",
       "      <td>2</td>\n",
       "      <td>7.0</td>\n",
       "      <td>8.0</td>\n",
       "    </tr>\n",
       "    <tr>\n",
       "      <th>2</th>\n",
       "      <td>3</td>\n",
       "      <td>4</td>\n",
       "      <td>5</td>\n",
       "      <td>10.0</td>\n",
       "      <td>11.0</td>\n",
       "    </tr>\n",
       "  </tbody>\n",
       "</table>\n",
       "</div>"
      ],
      "text/plain": [
       "   a  b  c     d     e\n",
       "1  0  1  2   7.0   8.0\n",
       "2  3  4  5  10.0  11.0"
      ]
     },
     "execution_count": 17,
     "metadata": {},
     "output_type": "execute_result"
    }
   ],
   "source": [
    "# illustration of how two allocation frames can be combined\n",
    "df1 = pd.DataFrame(np.arange(0,6,1).reshape(2,3), index=[1,2], columns=list('abc'))\n",
    "df2 = pd.DataFrame(np.arange(6,12,1).reshape(2,3), index=[1,2], columns=list('cde'))\n",
    "df1.combine_first(df2)"
   ]
  },
  {
   "cell_type": "code",
   "execution_count": 18,
   "metadata": {},
   "outputs": [
    {
     "data": {
      "text/html": [
       "<div>\n",
       "<style scoped>\n",
       "    .dataframe tbody tr th:only-of-type {\n",
       "        vertical-align: middle;\n",
       "    }\n",
       "\n",
       "    .dataframe tbody tr th {\n",
       "        vertical-align: top;\n",
       "    }\n",
       "\n",
       "    .dataframe thead th {\n",
       "        text-align: right;\n",
       "    }\n",
       "</style>\n",
       "<table border=\"1\" class=\"dataframe\">\n",
       "  <thead>\n",
       "    <tr style=\"text-align: right;\">\n",
       "      <th></th>\n",
       "      <th>a</th>\n",
       "      <th>b</th>\n",
       "      <th>c</th>\n",
       "      <th>d</th>\n",
       "      <th>e</th>\n",
       "    </tr>\n",
       "  </thead>\n",
       "  <tbody>\n",
       "    <tr>\n",
       "      <th>1</th>\n",
       "      <td>0.0</td>\n",
       "      <td>1.0</td>\n",
       "      <td>2.0</td>\n",
       "      <td>NaN</td>\n",
       "      <td>NaN</td>\n",
       "    </tr>\n",
       "    <tr>\n",
       "      <th>2</th>\n",
       "      <td>3.0</td>\n",
       "      <td>4.0</td>\n",
       "      <td>5.0</td>\n",
       "      <td>NaN</td>\n",
       "      <td>NaN</td>\n",
       "    </tr>\n",
       "    <tr>\n",
       "      <th>3</th>\n",
       "      <td>NaN</td>\n",
       "      <td>NaN</td>\n",
       "      <td>6.0</td>\n",
       "      <td>7.0</td>\n",
       "      <td>8.0</td>\n",
       "    </tr>\n",
       "    <tr>\n",
       "      <th>4</th>\n",
       "      <td>NaN</td>\n",
       "      <td>NaN</td>\n",
       "      <td>9.0</td>\n",
       "      <td>10.0</td>\n",
       "      <td>11.0</td>\n",
       "    </tr>\n",
       "  </tbody>\n",
       "</table>\n",
       "</div>"
      ],
      "text/plain": [
       "     a    b    c     d     e\n",
       "1  0.0  1.0  2.0   NaN   NaN\n",
       "2  3.0  4.0  5.0   NaN   NaN\n",
       "3  NaN  NaN  6.0   7.0   8.0\n",
       "4  NaN  NaN  9.0  10.0  11.0"
      ]
     },
     "execution_count": 18,
     "metadata": {},
     "output_type": "execute_result"
    }
   ],
   "source": [
    "# illustration of how two allocation frames can be combined\n",
    "df1 = pd.DataFrame(np.arange(0,6,1).reshape(2,3), index=[1,2], columns=list('abc'))\n",
    "df2 = pd.DataFrame(np.arange(6,12,1).reshape(2,3), index=[3,4], columns=list('cde'))\n",
    "df1.combine_first(df2)"
   ]
  },
  {
   "cell_type": "code",
   "execution_count": null,
   "metadata": {},
   "outputs": [],
   "source": [
    "# recreate performance for a given net exposure\n",
    "ne = '0.8'\n",
    "fname = FNAME_ALLOC.format(BACKTEST_PATH, ne, time_frame, rebal_frequency)\n",
    "allocs = pd.read_csv(fname, index_col='Date', parse_dates=True)\n",
    "fname = FNAME_RETURN.format(BACKTEST_PATH, ne, time_frame, rebal_frequency)\n",
    "returns = pd.read_csv(fname, index_col='Date', parse_dates=True)\n",
    "time_series = calc_port_performance(returns, allocs).to_frame()\n",
    "ts, te = '2017-06', '2017-08'\n",
    "time_series[ts:te].plot()\n",
    "returns.loc[returns[ts:te].abs().max(axis=1).argmax()].argmax()"
   ]
  },
  {
   "cell_type": "code",
   "execution_count": null,
   "metadata": {},
   "outputs": [],
   "source": [
    "# since there are two jumps, run this code twice\n",
    "ts = net_exp_port[ne].pct_change().argmax()\n",
    "date_idx = ts.strftime('%F')\n",
    "i = len(net_exp_port[ne].loc[:date_idx])\n",
    "index_val = net_exp_port[ne].iloc[i - 2]\n",
    "adjusted = compound(net_exp_port[ne].loc[date_idx:]) * index_val\n",
    "net_exp_port[ne].loc[adjusted.index] = adjusted.values"
   ]
  },
  {
   "cell_type": "code",
   "execution_count": null,
   "metadata": {},
   "outputs": [],
   "source": [
    "time_frame = '2007-12-25'; rebal_frequency = 'BM'\n",
    "fname = FNAME_INDEX.format(BACKTEST_PATH, time_frame, rebal_frequency)\n",
    "net_exp_port.to_csv(FNAME_INDEX.format(BACKTEST_PATH, time_frame, rebal_frequency))"
   ]
  }
 ],
 "metadata": {
  "kernelspec": {
   "display_name": "Python 3",
   "language": "python",
   "name": "python3"
  },
  "language_info": {
   "codemirror_mode": {
    "name": "ipython",
    "version": 3
   },
   "file_extension": ".py",
   "mimetype": "text/x-python",
   "name": "python",
   "nbconvert_exporter": "python",
   "pygments_lexer": "ipython3",
   "version": "3.6.4"
  },
  "toc": {
   "nav_menu": {},
   "number_sections": true,
   "sideBar": true,
   "skip_h1_title": false,
   "toc_cell": false,
   "toc_position": {},
   "toc_section_display": "block",
   "toc_window_display": false
  }
 },
 "nbformat": 4,
 "nbformat_minor": 2
}
