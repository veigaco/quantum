{
 "cells": [
  {
   "cell_type": "code",
   "execution_count": 1,
   "metadata": {},
   "outputs": [],
   "source": [
    "import pandas as pd\n",
    "from sqlalchemy.orm import sessionmaker#,relationship, backref\n",
    "from sqlalchemy import create_engine,select\n",
    "#from Schema import *\n",
    "from utils_modeling import *"
   ]
  },
  {
   "cell_type": "code",
   "execution_count": 2,
   "metadata": {},
   "outputs": [],
   "source": [
    "def get_metric_ts(metrc,idx,instrument):\n",
    "    session = sessionmaker()\n",
    "    session.configure(bind=engine)\n",
    "    s = session()\n",
    "    sql = select([Metrics]).where(and_(Metrics.instrument_id == instrument,\n",
    "        Metrics.Metric == metrc,Metrics.equity_fundamental_id == idx)).select_from(Metrics)\n",
    "    result=s.execute(sql)\n",
    "    df_ = pd.DataFrame(result.fetchall()).drop_duplicates()\n",
    "    df_.columns = result.keys()\n",
    "    s.close()\n",
    "    return df_\n",
    "\n",
    "def get_metrics(instrument):\n",
    "    session = sessionmaker()\n",
    "    session.configure(bind=engine)\n",
    "    s = session()\n",
    "    sql = select([Metrics]).where(Metrics.instrument_id == instrument).select_from(Metrics)\n",
    "    result=s.execute(sql)\n",
    "    df_ = pd.DataFrame(result.fetchall()).drop_duplicates()\n",
    "    df_.columns = result.keys()\n",
    "    s.close()\n",
    "    return df_"
   ]
  },
  {
   "cell_type": "code",
   "execution_count": null,
   "metadata": {},
   "outputs": [],
   "source": [
    "df1=get_metric_ts(\"Open\",2,379)\n",
    "df2=get_metric_ts(\"Market Cap\",1,379)\n",
    "df3=get_metric_ts(\"Day's Range\",2,379)\n",
    "df4=get_metric_ts(\"Avg. Volume\",2,379)\n",
    "df5=get_metric_ts(\"1y Target Est\",1,379)\n",
    "df6=get_metric_ts(\"Enterprise Value 3\",2,379)\n",
    "\n",
    "df7=get_metric_ts(\"Trailing P/E\",2,379)\n",
    "df8=get_metric_ts(\"Forward P/E 1\",2,379)\n",
    "df9=get_metric_ts(\"No. of Analysts\",8,379)\n",
    "df10=get_metric_ts(\"Avg. Estimate\",8,379)\n",
    "df11=get_metric_ts(\"Low Estimate\",8,379)\n",
    "df12=get_metric_ts(\"High Estimate\",8,379)\n",
    "df13=get_metric_ts(\"Year Ago EPS\",8,379)"
   ]
  },
  {
   "cell_type": "code",
   "execution_count": null,
   "metadata": {},
   "outputs": [],
   "source": [
    "df4"
   ]
  },
  {
   "cell_type": "code",
   "execution_count": null,
   "metadata": {},
   "outputs": [],
   "source": [
    "result=pd.concat([df1,df2,df3,df4,df5,df6,df7,df8,df9,df10,df11,df12,df13])\n",
    "result=result[(result.Period!=\"Next Qtr. (Sep 2018)\")&(result.Period!=\"Current Year (2018)\")&(result.Period!=\"Next Year (2019)\")]\n",
    "result=result.sort_values([\"refreshed_at\",\"Metric\"])\n",
    "\n",
    "instrument=get_data(Instrument)[[\"id\",\"name\"]]\n",
    "equity=get_data(Equity_fundamentals)\n",
    "\n",
    "result=pd.merge(result,instrument,left_on=\"instrument_id\",right_on=\"id\")\n",
    "result=pd.merge(result,equity,left_on=\"equity_fundamental_id\",right_on=\"id\")\n",
    "result=result.sort_values([\"refreshed_at\",\"Metric\"])\n",
    "result=result[[\"name\",\"Category\",\"Table\",\"Metric\",\"Period\",\"Value\",\"refreshed_at\"]]\n",
    "result.columns=[\"Ticker\",\"Category\",\"Section\",\"Metric\",\"Period\",\"Value\",\"Date\"]\n",
    "#result.set_index(\"Date\")\n",
    "#result[\"Date2\"]=pd.to_datetime(result['Date'])#, format='%Y-%m-%d %H:%M:%S')\n",
    "result=result.sort_values([\"Date\"])"
   ]
  },
  {
   "cell_type": "code",
   "execution_count": null,
   "metadata": {},
   "outputs": [],
   "source": [
    "#result['Date']"
   ]
  },
  {
   "cell_type": "code",
   "execution_count": null,
   "metadata": {},
   "outputs": [],
   "source": [
    "#result[\"DATE2\"]= ts.dt.date\n",
    "#result[\"DATE2\"]=pd.to_datetime(result['Date'], format=\"%Y-%m-%d\")\n",
    "result[\"DATE2\"]=result['Date'].dt.date.astype(str)"
   ]
  },
  {
   "cell_type": "code",
   "execution_count": null,
   "metadata": {},
   "outputs": [],
   "source": [
    "result.head()"
   ]
  },
  {
   "cell_type": "code",
   "execution_count": null,
   "metadata": {},
   "outputs": [],
   "source": [
    "result[result.DATE2==\"2018-05-20\"]"
   ]
  },
  {
   "cell_type": "code",
   "execution_count": null,
   "metadata": {},
   "outputs": [],
   "source": [
    "result.DATE2.drop_duplicates().shape"
   ]
  },
  {
   "cell_type": "code",
   "execution_count": null,
   "metadata": {},
   "outputs": [],
   "source": [
    "#result.groupby(['DATE2']).count()\n",
    "result.groupby(['Metric']).count()"
   ]
  },
  {
   "cell_type": "code",
   "execution_count": null,
   "metadata": {},
   "outputs": [],
   "source": [
    "result.to_csv(\"SBUX.csv\")"
   ]
  },
  {
   "cell_type": "code",
   "execution_count": 3,
   "metadata": {},
   "outputs": [],
   "source": [
    "all_data=get_metrics(379)"
   ]
  },
  {
   "cell_type": "code",
   "execution_count": 5,
   "metadata": {},
   "outputs": [
    {
     "data": {
      "text/html": [
       "<div>\n",
       "<style scoped>\n",
       "    .dataframe tbody tr th:only-of-type {\n",
       "        vertical-align: middle;\n",
       "    }\n",
       "\n",
       "    .dataframe tbody tr th {\n",
       "        vertical-align: top;\n",
       "    }\n",
       "\n",
       "    .dataframe thead th {\n",
       "        text-align: right;\n",
       "    }\n",
       "</style>\n",
       "<table border=\"1\" class=\"dataframe\">\n",
       "  <thead>\n",
       "    <tr style=\"text-align: right;\">\n",
       "      <th></th>\n",
       "      <th>Ticker</th>\n",
       "      <th>Category</th>\n",
       "      <th>Section</th>\n",
       "      <th>Metric</th>\n",
       "      <th>Period</th>\n",
       "      <th>Value</th>\n",
       "      <th>Date</th>\n",
       "    </tr>\n",
       "  </thead>\n",
       "  <tbody>\n",
       "    <tr>\n",
       "      <th>1666</th>\n",
       "      <td>SBUX</td>\n",
       "      <td>Statistics</td>\n",
       "      <td>Trading Information</td>\n",
       "      <td>% Held by Insiders 1</td>\n",
       "      <td>2018-05-20</td>\n",
       "      <td>2.88%</td>\n",
       "      <td>2018-05-20 08:04:45</td>\n",
       "    </tr>\n",
       "    <tr>\n",
       "      <th>0</th>\n",
       "      <td>SBUX</td>\n",
       "      <td>Summary</td>\n",
       "      <td>Summary</td>\n",
       "      <td>Market Cap</td>\n",
       "      <td>2018-05-20</td>\n",
       "      <td>78.881B</td>\n",
       "      <td>2018-05-20 08:04:45</td>\n",
       "    </tr>\n",
       "    <tr>\n",
       "      <th>328</th>\n",
       "      <td>SBUX</td>\n",
       "      <td>Statistics</td>\n",
       "      <td>Valuation Measures</td>\n",
       "      <td>Market Cap (intraday) 5</td>\n",
       "      <td>2018-05-20</td>\n",
       "      <td>78.88B</td>\n",
       "      <td>2018-05-20 08:04:45</td>\n",
       "    </tr>\n",
       "    <tr>\n",
       "      <th>691</th>\n",
       "      <td>SBUX</td>\n",
       "      <td>Statistics</td>\n",
       "      <td>Financial Highlights</td>\n",
       "      <td>Most Recent Quarter (mrq)</td>\n",
       "      <td>2018-05-20</td>\n",
       "      <td>Apr 1, 2018</td>\n",
       "      <td>2018-05-20 08:04:45</td>\n",
       "    </tr>\n",
       "    <tr>\n",
       "      <th>701</th>\n",
       "      <td>SBUX</td>\n",
       "      <td>Statistics</td>\n",
       "      <td>Financial Highlights</td>\n",
       "      <td>Net Income Avi to Common (ttm)</td>\n",
       "      <td>2018-05-20</td>\n",
       "      <td>4.39B</td>\n",
       "      <td>2018-05-20 08:04:45</td>\n",
       "    </tr>\n",
       "  </tbody>\n",
       "</table>\n",
       "</div>"
      ],
      "text/plain": [
       "     Ticker    Category               Section                          Metric  \\\n",
       "1666   SBUX  Statistics   Trading Information            % Held by Insiders 1   \n",
       "0      SBUX     Summary               Summary                      Market Cap   \n",
       "328    SBUX  Statistics    Valuation Measures         Market Cap (intraday) 5   \n",
       "691    SBUX  Statistics  Financial Highlights       Most Recent Quarter (mrq)   \n",
       "701    SBUX  Statistics  Financial Highlights  Net Income Avi to Common (ttm)   \n",
       "\n",
       "          Period        Value                Date  \n",
       "1666  2018-05-20        2.88% 2018-05-20 08:04:45  \n",
       "0     2018-05-20      78.881B 2018-05-20 08:04:45  \n",
       "328   2018-05-20       78.88B 2018-05-20 08:04:45  \n",
       "691   2018-05-20  Apr 1, 2018 2018-05-20 08:04:45  \n",
       "701   2018-05-20        4.39B 2018-05-20 08:04:45  "
      ]
     },
     "execution_count": 5,
     "metadata": {},
     "output_type": "execute_result"
    }
   ],
   "source": [
    "all_data.head()\n",
    "instrument=get_data(Instrument)[[\"id\",\"name\"]]\n",
    "equity=get_data(Equity_fundamentals)\n",
    "\n",
    "result=pd.merge(all_data,instrument,left_on=\"instrument_id\",right_on=\"id\")\n",
    "result=pd.merge(result,equity,left_on=\"equity_fundamental_id\",right_on=\"id\")\n",
    "result=result.sort_values([\"refreshed_at\",\"Metric\"])\n",
    "result=result[[\"name\",\"Category\",\"Table\",\"Metric\",\"Period\",\"Value\",\"refreshed_at\"]]\n",
    "result.columns=[\"Ticker\",\"Category\",\"Section\",\"Metric\",\"Period\",\"Value\",\"Date\"]\n",
    "#result.set_index(\"Date\")\n",
    "#result[\"Date2\"]=pd.to_datetime(result['Date'])#, format='%Y-%m-%d %H:%M:%S')\n",
    "result=result.sort_values([\"Date\"])\n",
    "result.head()"
   ]
  },
  {
   "cell_type": "code",
   "execution_count": 6,
   "metadata": {},
   "outputs": [
    {
     "data": {
      "text/plain": [
       "(15224, 7)"
      ]
     },
     "execution_count": 6,
     "metadata": {},
     "output_type": "execute_result"
    }
   ],
   "source": [
    "result.to_csv(\"SBUX.csv\")"
   ]
  },
  {
   "cell_type": "markdown",
   "metadata": {},
   "source": [
    "#  TEST DOWNLOAD OPTIONS INFO FROM YAHOO"
   ]
  },
  {
   "cell_type": "code",
   "execution_count": null,
   "metadata": {},
   "outputs": [],
   "source": []
  },
  {
   "cell_type": "code",
   "execution_count": null,
   "metadata": {},
   "outputs": [],
   "source": [
    "import sys\n",
    "sys.path.append('/home/ubuntu/quantum/Infrastructure')\n",
    "#from download_historical_equity_fundamental import *\n",
    "from Schema import *\n",
    "from mvo_utils import *\n",
    "sys.path.append('home/ubuntu/quantum/Modeling')"
   ]
  },
  {
   "cell_type": "code",
   "execution_count": null,
   "metadata": {},
   "outputs": [],
   "source": [
    "def get_summary(name):\n",
    "    try:\n",
    "        name1=name.replace('WIKI/' ,'')\n",
    "        summaryf=get_data_sf(pd.read_html('https://finance.yahoo.com/quote/'+name1+'/options?p='+name1))[1]\n",
    "        summaryf.columns=[\"Metric\",\"Value\"]\n",
    "        summaryf[\"Category\"]=\"Summary\";summaryf[\"Table\"]=\"Summary\"\n",
    "        summaryf[\"Period\"]=str(datetime.fromtimestamp(time.time()).strftime('%Y-%m-%d'))\n",
    "        summaryf[\"refreshed_at\"]=datetime.fromtimestamp(time.time()).strftime('%Y-%m-%d %H:%M:%S')\n",
    "        summaryf[\"instrument_id\"]=get_id_instrument(name)\n",
    "        summaryf[\"data_vendor_id\"]=get_id_data_vendor(\"Yahoo_Finance\")\n",
    "        summaryf[\"equity_fundamental_id\"]=summaryf[[\"Category\",\"Table\"]].apply(lambda x :add_up_equityf(x[\"Category\"],x[\"Table\"]), axis=1)\n",
    "        summaryf[[\"instrument_id\",\"equity_fundamental_id\",\"data_vendor_id\",\"refreshed_at\",\"Period\",\"Metric\",\"Value\"]].to_csv(Path_stats+\"summary_\"+name1+\".csv\")\n",
    "        return True\n",
    "    except Exception as err:\n",
    "        print(\"Error: {0}\".format(err))\n",
    "        print(\"No se existe summary para \"+name)\n",
    "        return err\n",
    "        pass\n",
    "    \n",
    "# https://finance.yahoo.com/quote/SBUX/options?p=SBUX\n",
    "def get_data_sf(data_request):\n",
    "    count=0\n",
    "    while True:\n",
    "        try:\n",
    "            count=count+1\n",
    "            summary = data_request ; break\n",
    "            if count==limit:\n",
    "                break;\n",
    "        except Exception as err:\n",
    "            print(\"Error: {0}, waiting to try again in {1}\".format(err, sleep_time))\n",
    "            sleep(sleep_time)\n",
    "            if count==limit:\n",
    "                break;\n",
    "    return summary"
   ]
  },
  {
   "cell_type": "code",
   "execution_count": null,
   "metadata": {},
   "outputs": [],
   "source": [
    "get_summary(\"SBUX\")"
   ]
  },
  {
   "cell_type": "code",
   "execution_count": null,
   "metadata": {},
   "outputs": [],
   "source": [
    "name=\"SBUX\"\n",
    "\n",
    "name1=name.replace('WIKI/' ,'')\n",
    "summaryf=get_data_sf(pd.read_html('https://finance.yahoo.com/quote/'+name1+'/options?p='+name1))#[1]"
   ]
  },
  {
   "cell_type": "code",
   "execution_count": null,
   "metadata": {},
   "outputs": [],
   "source": [
    "summaryf"
   ]
  },
  {
   "cell_type": "code",
   "execution_count": null,
   "metadata": {},
   "outputs": [],
   "source": []
  },
  {
   "cell_type": "code",
   "execution_count": null,
   "metadata": {},
   "outputs": [],
   "source": []
  },
  {
   "cell_type": "code",
   "execution_count": null,
   "metadata": {},
   "outputs": [],
   "source": [
    "from bs4 import BeautifulSoup as BS\n",
    "url =\"https://finance.yahoo.com/quote/SBUX/options?p=SBUX\"\n",
    "usock = urllib2.urlopen(url)\n",
    "data = usock.read()\n",
    "usock.close()\n",
    "soup = BS(data)\n",
    "#print soup.find('font', {'class':'big'}).text\n",
    "\n",
    "#data-reactid=\"5\""
   ]
  },
  {
   "cell_type": "code",
   "execution_count": null,
   "metadata": {},
   "outputs": [],
   "source": [
    "data"
   ]
  },
  {
   "cell_type": "code",
   "execution_count": null,
   "metadata": {},
   "outputs": [],
   "source": [
    "soup"
   ]
  },
  {
   "cell_type": "code",
   "execution_count": null,
   "metadata": {},
   "outputs": [],
   "source": []
  },
  {
   "cell_type": "code",
   "execution_count": null,
   "metadata": {},
   "outputs": [],
   "source": []
  },
  {
   "cell_type": "code",
   "execution_count": null,
   "metadata": {},
   "outputs": [],
   "source": [
    "import urllib\n",
    "from lxml import html\n",
    "\n",
    "#url = \"https://finance.yahoo.com/quote/SBUX/options?p=SBUX\"\n",
    "#page = html.fromstring(urllib.urlopen(url).read())\n",
    "\n",
    "\n",
    "import urllib.request\n",
    "with urllib.request.urlopen(\"https://finance.yahoo.com/quote/SBUX/options?p=SBUX\") as url:\n",
    "    s = url.read()\n",
    "    \n",
    "\n",
    "#for link in page.xpath(\"//a\"):\n",
    "#    print \"Name\", link.text, \"URL\", link.get(\"href\")\n",
    "\n",
    "'''output >>\n",
    "    [('Aathma Liyanage', 'athma.html'),\n",
    "     ('Abewardhana Balasuriya', 'abewardhana.html'),\n",
    "     ('Aelian Thilakeratne', 'aelian_thi.html'),\n",
    "     ('Ahamed Mohideen', 'ahamed.html'),\n",
    "    ]'''"
   ]
  },
  {
   "cell_type": "code",
   "execution_count": null,
   "metadata": {},
   "outputs": [],
   "source": [
    "s"
   ]
  },
  {
   "cell_type": "code",
   "execution_count": null,
   "metadata": {},
   "outputs": [],
   "source": []
  },
  {
   "cell_type": "code",
   "execution_count": null,
   "metadata": {},
   "outputs": [],
   "source": []
  },
  {
   "cell_type": "code",
   "execution_count": null,
   "metadata": {},
   "outputs": [],
   "source": []
  },
  {
   "cell_type": "code",
   "execution_count": null,
   "metadata": {},
   "outputs": [],
   "source": []
  },
  {
   "cell_type": "code",
   "execution_count": null,
   "metadata": {},
   "outputs": [],
   "source": []
  }
 ],
 "metadata": {
  "kernelspec": {
   "display_name": "Python 3",
   "language": "python",
   "name": "python3"
  },
  "language_info": {
   "codemirror_mode": {
    "name": "ipython",
    "version": 3
   },
   "file_extension": ".py",
   "mimetype": "text/x-python",
   "name": "python",
   "nbconvert_exporter": "python",
   "pygments_lexer": "ipython3",
   "version": "3.5.2"
  }
 },
 "nbformat": 4,
 "nbformat_minor": 2
}
