{
 "cells": [
  {
   "cell_type": "markdown",
   "metadata": {},
   "source": [
    "## Download all option expirations for a given ticker"
   ]
  },
  {
   "cell_type": "code",
   "execution_count": 232,
   "metadata": {},
   "outputs": [],
   "source": [
    "import json\n",
    "from urllib.request import urlopen\n",
    "from bs4 import BeautifulSoup as BS\n",
    "import datetime\n",
    "import pandas as pd\n",
    "import numpy as np"
   ]
  },
  {
   "cell_type": "code",
   "execution_count": 233,
   "metadata": {},
   "outputs": [],
   "source": [
    "OPTIONS_API_URL = \"https://query2.finance.yahoo.com/v7/finance/options/\"\n",
    "OPTIONS_WEB_URL = \"https://finance.yahoo.com/quote/\"\n",
    "\n",
    "ticker = \"SPY\"\n",
    "price = 276.0\n",
    "\n",
    "def get_list_dates(ticker):\n",
    "    # get expiration dates for a given ticker\n",
    "    url = OPTIONS_API_URL + ticker\n",
    "    usock = urlopen(url)\n",
    "    data = usock.read()\n",
    "    usock.close()\n",
    "    soup = BS(data,\"lxml\")\n",
    "    python_dict = json.loads(soup.getText())\n",
    "    list_dates=python_dict['optionChain']['result'][0]['expirationDates']\n",
    "    return list_dates\n",
    "\n",
    "def get_options(ticker):\n",
    "    # get all expiration option contracts for a given ticker\n",
    "    call = pd.DataFrame()\n",
    "    put = pd.DataFrame()\n",
    "    name1 = name.replace('WIKI/', '')\n",
    "    list_dates = get_list_dates(ticker)\n",
    "\n",
    "    for j in list_dates:\n",
    "        try:\n",
    "            calls = pd.read_html(OPTIONS_WEB_URL + ticker + \"/options?p=\" + ticker + \"&date=\" + str(j))[0]\n",
    "            calls[\"expiration\"] = datetime.datetime.fromtimestamp(int(j)).strftime('%Y-%m-%d')\n",
    "            call = call.append(calls)\n",
    "        except Exception as err: print(\"Error: {0}\".format(err))\n",
    "        try:\n",
    "            puts = pd.read_html(OPTIONS_WEB_URL + ticker + \"/options?p=\" + ticker + \"&date=\" + str(j))[1]\n",
    "            puts[\"expiration\"] = datetime.datetime.fromtimestamp(int(j)).strftime('%Y-%m-%d')\n",
    "            put = put.append(puts)\n",
    "        except Exception as err: print(\"Error: {0}\".format(err))\n",
    "            \n",
    "    call[\"type\"], put[\"type\"] = \"call\", \"put\"\n",
    "    \n",
    "    final = call.append(put)\n",
    "    final[\"ticker\"] = ticker\n",
    "    \n",
    "    return final"
   ]
  },
  {
   "cell_type": "code",
   "execution_count": 234,
   "metadata": {},
   "outputs": [
    {
     "name": "stdout",
     "output_type": "stream",
     "text": [
      "Error: list index out of range\n"
     ]
    }
   ],
   "source": [
    "options_res = get_options(ticker)"
   ]
  },
  {
   "cell_type": "markdown",
   "metadata": {},
   "source": [
    "#### Clean up tasks\n",
    "1. Add a column for ITM, LT_Day, LT_Hour, LT_Min\n",
    "2. Remove - from % change column\n",
    "3. Clean up data for last trade, remove EDT, add a space before PM and AM"
   ]
  },
  {
   "cell_type": "code",
   "execution_count": 244,
   "metadata": {},
   "outputs": [
    {
     "data": {
      "text/plain": [
       "Index(['Contract Name', 'Last Trade Date', 'Strike', 'Last Price', 'Bid',\n",
       "       'Ask', 'Change', '% Change', 'Volume', 'Open Interest',\n",
       "       'Implied Volatility', 'expiration', 'type', 'ticker'],\n",
       "      dtype='object')"
      ]
     },
     "execution_count": 244,
     "metadata": {},
     "output_type": "execute_result"
    }
   ],
   "source": [
    "options_res.columns"
   ]
  },
  {
   "cell_type": "code",
   "execution_count": 245,
   "metadata": {},
   "outputs": [],
   "source": [
    "options_clean = options_res.copy()\n",
    "options_clean.reset_index(drop=True, inplace=True)"
   ]
  },
  {
   "cell_type": "code",
   "execution_count": 246,
   "metadata": {},
   "outputs": [
    {
     "name": "stderr",
     "output_type": "stream",
     "text": [
      "/home/ubuntu/.local/lib/python3.5/site-packages/dateutil/parser/_parser.py:1204: UnknownTimezoneWarning: tzname EDT identified but not understood.  Pass `tzinfos` argument in order to correctly return a timezone-aware datetime.  In a future version, this will raise an exception.\n",
      "  category=UnknownTimezoneWarning)\n"
     ]
    }
   ],
   "source": [
    "# convert strings to numbers\n",
    "options_clean['% Change'] = options_clean['% Change'].str.replace('%','').replace('-',0).astype(float) / 100\n",
    "options_clean['Implied Volatility'] = options_clean['Implied Volatility'].str.replace('%','').replace('-',0).astype(float) / 100\n",
    "\n",
    "# convert to dates\n",
    "options_clean['Last Trade Date'] = pd.to_datetime(options_clean['Last Trade Date'])\n",
    "options_clean['expiration'] = pd.to_datetime(options_clean['expiration'])\n",
    "\n",
    "# ITM filter\n",
    "options_clean['ITM'] = 0\n",
    "options_clean.loc[options_clean[(options_clean['type'] == 'call') & (options_clean['Strike'] < price)].index, 'ITM'] = 1\n",
    "options_clean.loc[options_clean[(options_clean['type'] == 'put') & (options_clean['Strike'] > price)].index, 'ITM'] = 1\n",
    "\n",
    "# 0 for Monday and 6 for Sunday\n",
    "options_clean['LT_WeekDay'], options_clean['LT_Hour'] = \\\n",
    "options_clean['Last Trade Date'].dt.dayofweek, \\\n",
    "options_clean['Last Trade Date'].dt.hour\n",
    "\n",
    "# calcuates Bid/Ask spreads\n",
    "options_clean['B/A Spread'] = options_clean['Ask'] - options_clean['Bid']\n",
    "options_clean['B/A Spread %'] = options_clean['B/A Spread'] / options_clean['Bid']"
   ]
  },
  {
   "cell_type": "code",
   "execution_count": 247,
   "metadata": {},
   "outputs": [],
   "source": [
    "calls_itm, puts_itm = options_clean[(options_clean['type'] == 'call') & (options_clean['Strike'] < price)].Strike.count(), \\\n",
    "options_clean[(options_clean['type'] == 'put') & (options_clean['Strike'] > price)].Strike.count()\n",
    "total, ITM = options_res.Strike.count(), options_clean[options_clean.ITM == 1].ITM.count()\n",
    "assert ITM == calls_itm + puts_itm"
   ]
  },
  {
   "cell_type": "code",
   "execution_count": 248,
   "metadata": {},
   "outputs": [
    {
     "data": {
      "text/html": [
       "<div>\n",
       "<style scoped>\n",
       "    .dataframe tbody tr th:only-of-type {\n",
       "        vertical-align: middle;\n",
       "    }\n",
       "\n",
       "    .dataframe tbody tr th {\n",
       "        vertical-align: top;\n",
       "    }\n",
       "\n",
       "    .dataframe thead th {\n",
       "        text-align: right;\n",
       "    }\n",
       "</style>\n",
       "<table border=\"1\" class=\"dataframe\">\n",
       "  <thead>\n",
       "    <tr style=\"text-align: right;\">\n",
       "      <th></th>\n",
       "      <th>Contract Name</th>\n",
       "      <th>Last Trade Date</th>\n",
       "      <th>Strike</th>\n",
       "      <th>Last Price</th>\n",
       "      <th>Bid</th>\n",
       "      <th>Ask</th>\n",
       "      <th>Change</th>\n",
       "      <th>% Change</th>\n",
       "      <th>Volume</th>\n",
       "      <th>Open Interest</th>\n",
       "      <th>Implied Volatility</th>\n",
       "      <th>expiration</th>\n",
       "      <th>type</th>\n",
       "      <th>ticker</th>\n",
       "      <th>ITM</th>\n",
       "      <th>LT_WeekDay</th>\n",
       "      <th>LT_Hour</th>\n",
       "      <th>B/A Spread</th>\n",
       "      <th>B/A Spread %</th>\n",
       "    </tr>\n",
       "  </thead>\n",
       "  <tbody>\n",
       "    <tr>\n",
       "      <th>0</th>\n",
       "      <td>SPY180711C00240000</td>\n",
       "      <td>2018-06-08 16:05:00</td>\n",
       "      <td>240.0</td>\n",
       "      <td>37.24</td>\n",
       "      <td>38.19</td>\n",
       "      <td>38.41</td>\n",
       "      <td>0.0</td>\n",
       "      <td>0.0</td>\n",
       "      <td>2</td>\n",
       "      <td>0</td>\n",
       "      <td>2.1445</td>\n",
       "      <td>2018-07-11</td>\n",
       "      <td>call</td>\n",
       "      <td>SBUX</td>\n",
       "      <td>1</td>\n",
       "      <td>4</td>\n",
       "      <td>16</td>\n",
       "      <td>0.22</td>\n",
       "      <td>0.005761</td>\n",
       "    </tr>\n",
       "    <tr>\n",
       "      <th>1</th>\n",
       "      <td>SPY180711C00245000</td>\n",
       "      <td>2018-07-10 15:59:00</td>\n",
       "      <td>245.0</td>\n",
       "      <td>33.93</td>\n",
       "      <td>31.45</td>\n",
       "      <td>31.94</td>\n",
       "      <td>0.0</td>\n",
       "      <td>0.0</td>\n",
       "      <td>7</td>\n",
       "      <td>0</td>\n",
       "      <td>0.9531</td>\n",
       "      <td>2018-07-11</td>\n",
       "      <td>call</td>\n",
       "      <td>SBUX</td>\n",
       "      <td>1</td>\n",
       "      <td>1</td>\n",
       "      <td>15</td>\n",
       "      <td>0.49</td>\n",
       "      <td>0.015580</td>\n",
       "    </tr>\n",
       "    <tr>\n",
       "      <th>2</th>\n",
       "      <td>SPY180711C00250000</td>\n",
       "      <td>2018-07-09 10:47:00</td>\n",
       "      <td>250.0</td>\n",
       "      <td>27.01</td>\n",
       "      <td>25.50</td>\n",
       "      <td>27.96</td>\n",
       "      <td>0.0</td>\n",
       "      <td>0.0</td>\n",
       "      <td>5</td>\n",
       "      <td>5</td>\n",
       "      <td>1.5469</td>\n",
       "      <td>2018-07-11</td>\n",
       "      <td>call</td>\n",
       "      <td>SBUX</td>\n",
       "      <td>1</td>\n",
       "      <td>0</td>\n",
       "      <td>10</td>\n",
       "      <td>2.46</td>\n",
       "      <td>0.096471</td>\n",
       "    </tr>\n",
       "    <tr>\n",
       "      <th>3</th>\n",
       "      <td>SPY180711C00255000</td>\n",
       "      <td>2018-06-29 23:46:00</td>\n",
       "      <td>255.0</td>\n",
       "      <td>14.62</td>\n",
       "      <td>16.62</td>\n",
       "      <td>16.89</td>\n",
       "      <td>0.0</td>\n",
       "      <td>0.0</td>\n",
       "      <td>1</td>\n",
       "      <td>1</td>\n",
       "      <td>0.0000</td>\n",
       "      <td>2018-07-11</td>\n",
       "      <td>call</td>\n",
       "      <td>SBUX</td>\n",
       "      <td>1</td>\n",
       "      <td>4</td>\n",
       "      <td>23</td>\n",
       "      <td>0.27</td>\n",
       "      <td>0.016245</td>\n",
       "    </tr>\n",
       "    <tr>\n",
       "      <th>4</th>\n",
       "      <td>SPY180711C00259000</td>\n",
       "      <td>2018-06-27 14:37:00</td>\n",
       "      <td>259.0</td>\n",
       "      <td>13.81</td>\n",
       "      <td>12.62</td>\n",
       "      <td>12.81</td>\n",
       "      <td>0.0</td>\n",
       "      <td>0.0</td>\n",
       "      <td>1</td>\n",
       "      <td>0</td>\n",
       "      <td>0.0000</td>\n",
       "      <td>2018-07-11</td>\n",
       "      <td>call</td>\n",
       "      <td>SBUX</td>\n",
       "      <td>1</td>\n",
       "      <td>2</td>\n",
       "      <td>14</td>\n",
       "      <td>0.19</td>\n",
       "      <td>0.015055</td>\n",
       "    </tr>\n",
       "  </tbody>\n",
       "</table>\n",
       "</div>"
      ],
      "text/plain": [
       "        Contract Name     Last Trade Date  Strike  Last Price    Bid    Ask  \\\n",
       "0  SPY180711C00240000 2018-06-08 16:05:00   240.0       37.24  38.19  38.41   \n",
       "1  SPY180711C00245000 2018-07-10 15:59:00   245.0       33.93  31.45  31.94   \n",
       "2  SPY180711C00250000 2018-07-09 10:47:00   250.0       27.01  25.50  27.96   \n",
       "3  SPY180711C00255000 2018-06-29 23:46:00   255.0       14.62  16.62  16.89   \n",
       "4  SPY180711C00259000 2018-06-27 14:37:00   259.0       13.81  12.62  12.81   \n",
       "\n",
       "   Change  % Change  Volume  Open Interest  Implied Volatility expiration  \\\n",
       "0     0.0       0.0       2              0              2.1445 2018-07-11   \n",
       "1     0.0       0.0       7              0              0.9531 2018-07-11   \n",
       "2     0.0       0.0       5              5              1.5469 2018-07-11   \n",
       "3     0.0       0.0       1              1              0.0000 2018-07-11   \n",
       "4     0.0       0.0       1              0              0.0000 2018-07-11   \n",
       "\n",
       "   type ticker  ITM  LT_WeekDay  LT_Hour  B/A Spread  B/A Spread %  \n",
       "0  call   SBUX    1           4       16        0.22      0.005761  \n",
       "1  call   SBUX    1           1       15        0.49      0.015580  \n",
       "2  call   SBUX    1           0       10        2.46      0.096471  \n",
       "3  call   SBUX    1           4       23        0.27      0.016245  \n",
       "4  call   SBUX    1           2       14        0.19      0.015055  "
      ]
     },
     "execution_count": 248,
     "metadata": {},
     "output_type": "execute_result"
    }
   ],
   "source": [
    "options_clean.head()"
   ]
  },
  {
   "cell_type": "code",
   "execution_count": 240,
   "metadata": {},
   "outputs": [],
   "source": [
    "options_clean.to_csv(ticker + '_options.csv')"
   ]
  },
  {
   "cell_type": "code",
   "execution_count": null,
   "metadata": {},
   "outputs": [],
   "source": []
  }
 ],
 "metadata": {
  "kernelspec": {
   "display_name": "Python 3",
   "language": "python",
   "name": "python3"
  },
  "language_info": {
   "codemirror_mode": {
    "name": "ipython",
    "version": 3
   },
   "file_extension": ".py",
   "mimetype": "text/x-python",
   "name": "python",
   "nbconvert_exporter": "python",
   "pygments_lexer": "ipython3",
   "version": "3.5.2"
  }
 },
 "nbformat": 4,
 "nbformat_minor": 2
}
